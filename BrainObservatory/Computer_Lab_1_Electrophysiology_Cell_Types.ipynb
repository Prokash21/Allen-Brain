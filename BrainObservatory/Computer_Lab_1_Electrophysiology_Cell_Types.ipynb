{
  "cells": [
    {
      "cell_type": "markdown",
      "metadata": {
        "id": "t_NGOBMRoNIL"
      },
      "source": [
        "# Exploring cell types in human and mouse brains\n",
        "\n",
        "### The brain has thousands of different types of cells. How do we even begin to tease them apart?\n",
        "\n",
        "We can define neurons by their <b>gene expression patterns</b>, <b>electrophysiology features</b>, and <b>structure</b>. Here, we'll use those three features to compare and contrast cell types in humans and mice.\n",
        "\n",
        "This notebook will help us investigate specific features in the electrophysiology dataset from the Allen Brain Atlas. See <b>Technical Notes</b> at the end of this notebook for more information about working with the AllenSDK.\n"
      ]
    },
    {
      "cell_type": "markdown",
      "metadata": {
        "id": "xdbKbGKroNIS"
      },
      "source": [
        "## Step 1: Importing Allen data\n",
        "First, we need to get some of the raw data. We can do this by communicating with the Allen SDK to grab a \"Neuroscience Without Borders\" (NWB) file that will contain the data for one cell.<br/>\n",
        "\n",
        "<b>Note</b>: In order to run the line below, you need to have the allenSDK installed. You can find information on how to do that <a href=\"http://alleninstitute.github.io/AllenSDK/install.html\">here</a>."
      ]
    },
    {
      "cell_type": "code",
      "execution_count": null,
      "metadata": {
        "id": "0C91U0-9oNIT"
      },
      "outputs": [],
      "source": [
        "# First, we'll import the \"Cell Types Cache\" from the AllenSDK.\n",
        "from allensdk.core.cell_types_cache import CellTypesCache\n",
        "\n",
        "# We'll then initialize the cache as 'ctc' (cell types cache)\n",
        "ctc = CellTypesCache(manifest_file='cell_types/manifest.json')"
      ]
    },
    {
      "cell_type": "markdown",
      "metadata": {
        "id": "9BJD3AraoNIV"
      },
      "source": [
        "<div style=\"background: #DFF0D8; border-radius: 3px; padding: 10px;\">\n",
        "<b>Task</b>: Find the cell specimen ID for the first cell you looked at in the first portion of the lab (hint: it's in the URL), and enter this after cell_id below.\n",
        "\n",
        "This might take a minute or two. You should wait until the circle in the upper right is <i>not</i> filled to continue.</div>"
      ]
    },
    {
      "cell_type": "code",
      "execution_count": null,
      "metadata": {
        "id": "8AArR0LDoNIX"
      },
      "outputs": [],
      "source": [
        "# Enter your cell_id below\n",
        "cell_id =\n",
        "\n",
        "# Get the electrophysiology (ephys) data for that cell\n",
        "data_set = ctc.get_ephys_data(cell_id)\n",
        "print('Data retrieved')"
      ]
    },
    {
      "cell_type": "markdown",
      "metadata": {
        "id": "xtadTHAVoNIX"
      },
      "source": [
        "Now, let's import and rename a few packages that we need to plot our data.\n",
        "\n",
        "<p><div style=\"background: #DFF0D8; border-radius: 3px; padding: 10px;\">\n",
        "    <b>Task</b>: Just like you did in the introductory lesson, import the <a href=\"https://www.numpy.org/\">numpy</a> toolbox nicknamed as np. Add a print message at the end that says \"Packages imported\" so that you know the code ran. If you need a reminder for how print works, make a new cell below this one and type \"?print\".</div></p>"
      ]
    },
    {
      "cell_type": "code",
      "execution_count": null,
      "metadata": {
        "scrolled": true,
        "id": "_gH_CC1EoNIY"
      },
      "outputs": [],
      "source": [
        " # The following line initializes a *magic* function that allows us to show plots directly in our notebook\n",
        "%matplotlib inline\n",
        "\n",
        "# Import packages that we need. Put your import line below.\n",
        "import matplotlib.pyplot as plt\n"
      ]
    },
    {
      "cell_type": "markdown",
      "metadata": {
        "id": "NCqGb3FooNIa"
      },
      "source": [
        "Our NWB file has some built in methods to enable us to pull out a sweep.\n",
        "\n",
        "<div style=\"background: #DFF0D8; border-radius: 3px; padding: 10px;\">\n",
        "    <b>Task:</b> Choose your favorite sweep below. (<u>Hint</u>: go back to the website to see what the sweep numbers are.)</div>"
      ]
    },
    {
      "cell_type": "code",
      "execution_count": null,
      "metadata": {
        "id": "qm_zDOsdoNIb"
      },
      "outputs": [],
      "source": [
        "# Enter your sweep number below\n",
        "sweep_number =\n",
        "\n",
        "sweep_data = data_set.get_sweep(sweep_number)\n",
        "print('Sweep obtained')"
      ]
    },
    {
      "cell_type": "markdown",
      "metadata": {
        "id": "Kz2kdHMpoNIc"
      },
      "source": [
        "## Step 2: Plotting electrophysiology data\n",
        "Now that you've pulled down some data, chosen a cell, and chosen a sweep number, let's plot that data.\n",
        "\n",
        "<b>Note</b>: There's a lot of code here, but don't worry about it too much. The principles are the same as in the Introduction to Jupyter Notebooks, except now we're plotting \"subplots\" -- multiple plots within one image -- so the code is a little bit more complicated."
      ]
    },
    {
      "cell_type": "code",
      "execution_count": null,
      "metadata": {
        "id": "zl7jPWp8oNIc"
      },
      "outputs": [],
      "source": [
        "# First we need to set up the range of our data\n",
        "index_range = sweep_data[\"index_range\"]\n",
        "i = sweep_data[\"stimulus\"][0:index_range[1]+1] # in A\n",
        "v = sweep_data[\"response\"][0:index_range[1]+1] # in V\n",
        "i *= 1e12 # this converts the value to pA\n",
        "v *= 1e3 # this converts the value to mV\n",
        "\n",
        "# We need to know the sampling rate so that we can create a time axis for our data\n",
        "sampling_rate = sweep_data[\"sampling_rate\"] # in Hz\n",
        "t = (np.arange(0, len(v)) * (1.0 / sampling_rate))"
      ]
    },
    {
      "cell_type": "code",
      "execution_count": null,
      "metadata": {
        "id": "W5V_l3kKoNId"
      },
      "outputs": [],
      "source": [
        "# Set up our plot\n",
        "plt.style.use('ggplot')\n",
        "fig, axes = plt.subplots(2, 1, sharex=True)\n",
        "\n",
        "# axes 0 is our first plot, of the recorded voltage data\n",
        "axes[0].plot(t, v, color='black')\n",
        "axes[0].set_ylabel(\"mV\")\n",
        "#axes[0].set_xlim(0,3)\n",
        "axes[0].set_title(\"whole-cell patch recording\")\n",
        "\n",
        "# axes 1 is our second plot, of the stimulus trace\n",
        "axes[1].plot(t, i, color='gray')\n",
        "axes[1].set_ylabel(\"pA\")\n",
        "axes[1].set_xlabel(\"seconds\")\n",
        "axes[1].set_title(\"stimulus\")\n",
        "\n",
        "plt.show()"
      ]
    },
    {
      "cell_type": "markdown",
      "metadata": {
        "id": "V0bMGsjmoNId"
      },
      "source": [
        "This plot probably looks different from the plot on the website, why?\n",
        "\n",
        "<b>Hint:</b> There is a line that has been commented out above. Uncomment the line to change the scaling of the x-axis in order to zoom in on the period where the current was applied. If necessary, change the second value in set_xlim to change the extent of the x axis. Re-run the cell to re-plot the data."
      ]
    },
    {
      "cell_type": "markdown",
      "metadata": {
        "id": "8dyIS6puoNIe"
      },
      "source": [
        "## Step 3: Plotting the morphology of the cell\n",
        "The Cell Types Database also contains 3D reconstructions of neuronal morphologies. Here, we'll plot the reconstruction of our cell's morphology. <b>It may take a minute or two to run the cell below.</b>"
      ]
    },
    {
      "cell_type": "code",
      "execution_count": null,
      "metadata": {
        "id": "7Av5Yy4woNIe"
      },
      "outputs": [],
      "source": [
        "# Import necessary toolbox\n",
        "from allensdk.core.swc import Marker\n",
        "\n",
        "# Download and open morphology and marker files\n",
        "morphology = ctc.get_reconstruction(cell_id)\n",
        "markers = ctc.get_reconstruction_markers(cell_id)\n",
        "\n",
        "# Set up our plot\n",
        "fig, axes = plt.subplots(1, 2, sharey=True, sharex=True)\n",
        "axes[0].set_aspect('equal')\n",
        "axes[1].set_aspect('equal')\n",
        "\n",
        "# Make a line drawing of x-y and y-z views\n",
        "for n in morphology.compartment_list:\n",
        "    for c in morphology.children_of(n):\n",
        "        axes[0].plot([n['x'], c['x']], [n['y'], c['y']], color='black')\n",
        "        axes[1].plot([n['z'], c['z']], [n['y'], c['y']], color='black')\n",
        "\n",
        "# cut dendrite markers\n",
        "dm = [ m for m in markers if m['name'] == Marker.CUT_DENDRITE ]\n",
        "axes[0].scatter([m['x'] for m in dm], [m['y'] for m in dm], color='#3333ff')\n",
        "axes[1].scatter([m['z'] for m in dm], [m['y'] for m in dm], color='#3333ff')\n",
        "\n",
        "# no reconstruction markers\n",
        "nm = [ m for m in markers if m['name'] == Marker.NO_RECONSTRUCTION ]\n",
        "axes[0].scatter([m['x'] for m in nm], [m['y'] for m in nm], color='#333333')\n",
        "axes[1].scatter([m['z'] for m in nm], [m['y'] for m in nm], color='#333333')\n",
        "axes[0].set_ylabel('y')\n",
        "axes[0].set_xlabel('x')\n",
        "axes[1].set_xlabel('z')\n",
        "plt.show()"
      ]
    },
    {
      "cell_type": "markdown",
      "metadata": {
        "id": "lhJBjfPEoNIf"
      },
      "source": [
        "## Step 4: Filtering Cells via Metadata (information about those cells)\n",
        "\n",
        "Cell records in the Cell Types Database come with a large amount of metadata. We can use \"CellTypesCache.get_cells\" to specify which cells we want.\n",
        "\n",
        "First, let's get an idea of all of the data that exists for us to analyze."
      ]
    },
    {
      "cell_type": "markdown",
      "metadata": {
        "id": "rE9pSlqJoNIf"
      },
      "source": [
        "The Cell Types Database contains a set of features that have already been computed, which could serve as good starting points for analysis. We can query the database to get these features. Let's first see which features are available.\n",
        "\n",
        "<b>Note</b> you may get an error that says 'from_csv is deprecated' while running this, but it won't disrupt the script. You can ignore it."
      ]
    },
    {
      "cell_type": "code",
      "execution_count": null,
      "metadata": {
        "id": "AtGQ8wZFoNIg"
      },
      "outputs": [],
      "source": [
        "import pandas as pd\n",
        "\n",
        "# download all electrophysiology features for all cells\n",
        "ephys_features = ctc.get_ephys_features()\n",
        "ef_df = pd.DataFrame(ephys_features)\n",
        "\n",
        "print(\"Ephys features available for %d cells\" % len(ef_df))\n",
        "\n",
        "# look at the features available for our cell\n",
        "cell_ephys_features = ef_df[ef_df['specimen_id']== cell_id]\n",
        "cell_ephys_features"
      ]
    },
    {
      "cell_type": "markdown",
      "metadata": {
        "id": "OBt3SGqdoNIg"
      },
      "source": [
        "That's how to get all the ephys features for a given specimen - what if we want a particular feature for all cells? Let's first look at the speed of the trough, and the ratio between the upstroke and downstroke of the action potential.\n",
        "\n",
        "<div style=\"background: #F3D48D; border-radius: 3px; padding: 10px;\">\n",
        "\n",
        "<b>Action potential fast trough (fast_trough_v_long_square)</b>: Minimum value of the membrane potential in the interval lasting 5 ms after the peak.\n",
        "\n",
        "<b>Upstroke/downstroke ratio (upstroke_downstroke_ratio_long_square)</b>: The ratio between the absolute values of the action potential peak upstroke and the action potential peak downstroke.</div>"
      ]
    },
    {
      "cell_type": "code",
      "execution_count": null,
      "metadata": {
        "id": "Ap5kaTQooNIh"
      },
      "outputs": [],
      "source": [
        "plt.figure()\n",
        "plt.scatter(ef_df['fast_trough_v_long_square'],\n",
        "            ef_df['upstroke_downstroke_ratio_long_square'],\n",
        "            color='#2ca25f')\n",
        "plt.ylabel(\"upstroke-downstroke ratio\")\n",
        "plt.xlabel(\"fast trough depth (mV)\")\n",
        "plt.show()"
      ]
    },
    {
      "cell_type": "markdown",
      "metadata": {
        "id": "6Suwmn9NoNIh"
      },
      "source": [
        "It looks like there may be roughly two clusters in the data above. Maybe they relate to whether the cells are presumably excitatory (spiny) cells or inhibitory (aspiny) cells. Let's query the API and split up the two sets to see."
      ]
    },
    {
      "cell_type": "code",
      "execution_count": null,
      "metadata": {
        "scrolled": true,
        "id": "FTbTyrGkoNIi"
      },
      "outputs": [],
      "source": [
        "cells = ctc.get_cells()\n",
        "\n",
        "# we want to add dendrite type as a column to the ephys. features dataframe\n",
        "# first build an index on cell specimen ID, then create array of dendrite types\n",
        "cell_index = { c['id']: c for c in cells }\n",
        "dendrite_types = [ cell_index[cid]['dendrite_type'] for cid in ef_df['specimen_id'] ]\n",
        "\n",
        "# now add the new column\n",
        "ef_df['dendrite_type'] = pd.Series(dendrite_types, index=ef_df.index)\n",
        "\n",
        "fig = plt.figure()\n",
        "for d_type, color in [ [\"spiny\", \"#d95f02\"], [\"aspiny\", \"#7570b3\"] ]:\n",
        "    df = ef_df[ef_df['dendrite_type'] == d_type]\n",
        "    plt.scatter(df['fast_trough_v_long_square'],\n",
        "                df['upstroke_downstroke_ratio_long_square'],\n",
        "                color=color, label=d_type)\n",
        "    plt.ylabel(\"upstroke-downstroke ratio\")\n",
        "    plt.xlabel(\"fast trough depth (mV)\")\n",
        "    plt.legend(loc='best')\n",
        "\n",
        "plt.show()"
      ]
    },
    {
      "cell_type": "markdown",
      "metadata": {
        "id": "SDxThwxWoNIi"
      },
      "source": [
        "Looks like these two clusters do partially relate to the dendritic type. Cells with spiny dendrites (which are typically excitatory cells) have a big ratio of upstroke:downstroke, and a more shallow trough (less negative). Cells with aspiny dendrites (typically inhibitory cells) are a little bit more varied. But </i>only</i> aspiny cells have a low upstroke:downstroke ratio and a deeper trough (more negative).\n",
        "\n",
        "Let's take a closer look at the action potentials of these cells to see what these metrics actually mean for the action potential waveform by choosing one of the cells with the highest upstroke:downstroke ratio."
      ]
    },
    {
      "cell_type": "code",
      "execution_count": null,
      "metadata": {
        "id": "B1ucPYM_oNIj"
      },
      "outputs": [],
      "source": [
        "ef_df_upstroke_sorted = ef_df.sort_values('upstroke_downstroke_ratio_long_square',ascending=False)\n",
        "top_cell = ef_df_upstroke_sorted.iloc[2]\n",
        "cell_id = top_cell['specimen_id']\n",
        "cell_id\n",
        "print('Cell with biggest upstroke:downstroke ratio')\n",
        "print(\"Specimen ID: %d\" % cell_id)\n",
        "print(\"With upstroke-downstroke ratio: %s\" % top_cell['upstroke_downstroke_ratio_long_square'])"
      ]
    },
    {
      "cell_type": "markdown",
      "metadata": {
        "id": "X_qFXWpVoNIj"
      },
      "source": [
        "Now we can take a closer look at the action potential for that cell by grabbing its electrophysiology data, just like we did above. Let's fine a good sweep that will show us some nice action potentials. The next cell of code will look for sweep numbers with a Long Square stimulus of at least 200 pA. It'll print some sweep IDs."
      ]
    },
    {
      "cell_type": "code",
      "execution_count": null,
      "metadata": {
        "id": "n9V4yw7joNIk"
      },
      "outputs": [],
      "source": [
        "upstroke_data = ctc.get_ephys_data(cell_id)\n",
        "print('Upstroke sample cell data acquired')\n",
        "sweepIDs = upstroke_data.get_sweep_numbers()\n",
        "sweepNum = len(sweepIDs)\n",
        "for i in range(1,sweepNum):\n",
        "    sweepMeta = upstroke_data.get_sweep_metadata(sweepIDs[i])\n",
        "    if sweepMeta['aibs_stimulus_name'] == 'Long Square':\n",
        "        if sweepMeta['aibs_stimulus_amplitude_pa'] > 200:\n",
        "            # print(sweepMeta)\n",
        "            print(sweepIDs[i])"
      ]
    },
    {
      "cell_type": "markdown",
      "metadata": {
        "id": "67AhlW6IoNIk"
      },
      "source": [
        "<div style=\"background: #DFF0D8; border-radius: 3px; padding: 10px;\">\n",
        "    <b>Task</b>: Enter one of these sweep IDs in the next cell where it says \"upstroke_sweep_id\".</div>"
      ]
    },
    {
      "cell_type": "code",
      "execution_count": null,
      "metadata": {
        "scrolled": true,
        "id": "LgxvlSHgoNIl"
      },
      "outputs": [],
      "source": [
        "# choose a sweep number to plot\n",
        "upstroke_sweep_id =\n",
        "upstroke_sweep = upstroke_data.get_sweep(upstroke_sweep_id)"
      ]
    },
    {
      "cell_type": "markdown",
      "metadata": {
        "id": "aQFuCV5ioNIl"
      },
      "source": [
        "And now let's plot our sweep, zooming in on the action potential. You may need to change some values in the plotting script, or change the sweep number to one where you can see an action potential."
      ]
    },
    {
      "cell_type": "code",
      "execution_count": null,
      "metadata": {
        "id": "x7NjRUGYoNIm"
      },
      "outputs": [],
      "source": [
        "index_range = upstroke_sweep[\"index_range\"]\n",
        "i = upstroke_sweep[\"stimulus\"][0:index_range[1]+1] # in A\n",
        "v = upstroke_sweep[\"response\"][0:index_range[1]+1] # in V\n",
        "i *= 1e12 # this converts the value to pA\n",
        "v *= 1e12 # this converts the value to mV\n",
        "\n",
        "sampling_rate = sweep_data[\"sampling_rate\"] # in Hz\n",
        "t = (np.arange(0, len(v)) * (1.0 / sampling_rate))"
      ]
    },
    {
      "cell_type": "code",
      "execution_count": null,
      "metadata": {
        "id": "p5puRHdaoNIm"
      },
      "outputs": [],
      "source": [
        "plt.style.use('ggplot')\n",
        "fig, axes = plt.subplots(2, 1, sharex=True)\n",
        "\n",
        "# axes 0 is our first plot, of the recorded voltage data\n",
        "axes[0].plot(t, v, color='black')\n",
        "axes[0].set_ylabel(\"mV\")\n",
        "#axes[0].set_xlim(.25,.3)\n",
        "axes[0].set_title(\"whole-cell patch recording\")\n",
        "\n",
        "#axes 1 is our second plot, of the stimulus trace\n",
        "axes[1].plot(t, i, color='gray')\n",
        "axes[1].set_ylabel(\"pA\")\n",
        "axes[1].set_xlabel(\"seconds\")\n",
        "axes[1].set_title(\"stimulus\")\n",
        "\n",
        "plt.show()"
      ]
    },
    {
      "cell_type": "markdown",
      "metadata": {
        "id": "ZqgUIV3IoNIn"
      },
      "source": [
        "Let's do the same thing for a cell with a low upstroke ratio and compare. Similiar to above, zoom in on the x axis so that you can actually see the shape of the waveform."
      ]
    },
    {
      "cell_type": "code",
      "execution_count": null,
      "metadata": {
        "id": "LyrGa5PSoNIn"
      },
      "outputs": [],
      "source": [
        "ef_df_upstroke_sorted = ef_df.sort_values('upstroke_downstroke_ratio_long_square',ascending=True)\n",
        "top_cell = ef_df_upstroke_sorted.iloc[2]\n",
        "cell_id = top_cell['specimen_id']\n",
        "print(\"Specimen ID: %d\" % cell_id)\n",
        "print(\"With ratio: %s\" % top_cell['upstroke_downstroke_ratio_long_square'])\n",
        "upstroke_data = ctc.get_ephys_data(cell_id)\n",
        "upstroke_sweep = upstroke_data.get_sweep(46)\n",
        "index_range = upstroke_sweep[\"index_range\"]\n",
        "i_2 = upstroke_sweep[\"stimulus\"][0:index_range[1]+1] # in A\n",
        "v_2 = upstroke_sweep[\"response\"][0:index_range[1]+1] # in V\n",
        "i_2 *= 1e12 # this converts the value to pA\n",
        "v_2 *= 1e12 # this converts the value to mV\n",
        "\n",
        "sampling_rate = sweep_data[\"sampling_rate\"] # in Hz\n",
        "t_2 = (np.arange(0, len(v_2)) * (1.0 / sampling_rate))"
      ]
    },
    {
      "cell_type": "code",
      "execution_count": null,
      "metadata": {
        "id": "Tpnkv65ioNIq"
      },
      "outputs": [],
      "source": [
        "plt.style.use('ggplot')\n",
        "fig, axes = plt.subplots(2, 1, sharex=True)\n",
        "\n",
        "axes[0].plot(t_2, v_2, color='black')\n",
        "axes[0].set_ylabel(\"mV\")\n",
        "#axes[0].set_xlim(0.3,0.5)\n",
        "axes[0].set_title(\"cell with lowest upstroke:downstroke ratio\")\n",
        "\n",
        "axes[1].plot(t_2, i_2, color='gray')\n",
        "axes[1].set_ylabel(\"pA\")\n",
        "axes[1].set_xlabel(\"seconds\")\n",
        "axes[1].set_title(\"stimulus\")\n",
        "\n",
        "plt.show()"
      ]
    },
    {
      "cell_type": "markdown",
      "metadata": {
        "id": "3apz2k0ioNIq"
      },
      "source": [
        "As you can see, even that one metric, upstroke:downstroke ratio, means the shape of the action potential is dramatically different. The other metric above, size of the trough, is highly correlated with upstroke:downstroke. You can see that by comparing the two cells here. Cells with high upstroke:downstroke tend to have less negative troughs (undershoots) after the action potential."
      ]
    },
    {
      "cell_type": "markdown",
      "metadata": {
        "id": "HmXasaDNoNIr"
      },
      "source": [
        "## Step 5: Comparing human to mouse cells\n",
        "Let's get out of the action potential weeds a bit. What if we want to know a big picture thing, such as <b>are human cells different than mouse cells?</b>\n",
        "    \n",
        "We can make similar plots to above but subselected for human and mouse cells. First, let's get an idea of how many cells of each type are here."
      ]
    },
    {
      "cell_type": "code",
      "execution_count": null,
      "metadata": {
        "scrolled": false,
        "id": "976GJKg7oNIr"
      },
      "outputs": [],
      "source": [
        "from allensdk.api.queries.cell_types_api import CellTypesApi\n",
        "from allensdk.core.cell_types_cache import ReporterStatus as RS\n",
        "# download all cells\n",
        "cells = ctc.get_cells()\n",
        "print(\"Total cells: %d\" % len(cells))\n",
        "# mouse cells\n",
        "cells = ctc.get_cells(species=[CellTypesApi.MOUSE])\n",
        "print(\"Mouse cells: %d\" % len(cells))\n",
        "# human cells\n",
        "cells = ctc.get_cells(species=[CellTypesApi.HUMAN])\n",
        "print(\"Human cells: %d\" % len(cells))"
      ]
    },
    {
      "cell_type": "markdown",
      "metadata": {
        "id": "kAuvKlgkoNIs"
      },
      "source": [
        "Let's now get all of the electrophysiology data for the mouse and human cells, separately."
      ]
    },
    {
      "cell_type": "code",
      "execution_count": null,
      "metadata": {
        "id": "0JESQI_loNIs"
      },
      "outputs": [],
      "source": [
        "# make a dataframe out of ephys features\n",
        "ephys_features_df = pd.DataFrame.from_records(ephys_features)\n",
        "ephys_features_df.head(1)\n",
        "\n",
        "# grab mouse data and merge with dataframe\n",
        "mouse_cells = ctc.get_cells(species=[CellTypesApi.MOUSE])\n",
        "mouse_df = pd.DataFrame(mouse_cells)\n",
        "mouse_ephys_df = pd.merge(mouse_df,ephys_features_df,left_on='id',right_on='specimen_id',how='left')\n",
        "\n",
        "# grab human data and merge with dataframe\n",
        "human_cells = ctc.get_cells(species=[CellTypesApi.HUMAN])\n",
        "human_df = pd.DataFrame(human_cells)\n",
        "human_ephys_df = pd.merge(human_df,ephys_features_df,left_on='id',right_on='specimen_id',how='left')"
      ]
    },
    {
      "cell_type": "markdown",
      "metadata": {
        "id": "bgJA6fkToNIz"
      },
      "source": [
        "Let's look at the first five rows of our mouse and human datasets here.\n",
        "\n",
        "<div style=\"background: #DFF0D8; border-radius: 3px; padding: 10px;\">\n",
        "    <b>Task</b>: Show the first few rows of the table by using brackets after the variable name. Look above to see which variable your merged dataframe is saved as. Then, you'll you want to enter variable_name[1:5]. Do this for the mouse data in the first cell below, and human data in the second. Scroll to the right within the table to see the parameters for the cell.</div>"
      ]
    },
    {
      "cell_type": "code",
      "execution_count": null,
      "metadata": {
        "id": "o902itPZoNI0"
      },
      "outputs": [],
      "source": []
    },
    {
      "cell_type": "code",
      "execution_count": null,
      "metadata": {
        "scrolled": true,
        "id": "OQKvYMbHoNI0"
      },
      "outputs": [],
      "source": []
    },
    {
      "cell_type": "markdown",
      "metadata": {
        "id": "-dOVYzuWoNI0"
      },
      "source": [
        "Let's start by plotting the resting membrane potential for all of our human cells vs all of our mouse cells.\n",
        "\n",
        "(In case you're curious, here's a good place to find documentation for plotting: https://pandas.pydata.org/pandas-docs/stable/reference/api/pandas.Series.plot.html You can always Google questions you have!)"
      ]
    },
    {
      "cell_type": "code",
      "execution_count": null,
      "metadata": {
        "id": "ApE1T9E1oNI0"
      },
      "outputs": [],
      "source": [
        "fig = plt.figure()\n",
        "\n",
        "# Below it is set to plot resting membrane potential 'vrest'. That's where you can change what is being plotted.\n",
        "# Make sure you change it for both the mouse and human plot!\n",
        "axes = mouse_ephys_df['vrest'].plot(kind=\"hist\",fc=(0, .5,.5, 0.5))\n",
        "axes = human_ephys_df['vrest'].plot(kind=\"hist\",fc=(0, 0, 1, 0.5))\n",
        "\n",
        "# this is where you should change the label:\n",
        "axes.set_xlabel('Resting Membrane Potential (mV)')\n",
        "axes.legend(['mouse','human'])\n",
        "plt.show()"
      ]
    },
    {
      "cell_type": "markdown",
      "metadata": {
        "id": "zuKro_kRoNI1"
      },
      "source": [
        "<div style=\"background: #DFF0D8; border-radius: 3px; padding: 10px;\">\n",
        "    <b>Task</b>: Choose a different parameter to compare between human and mouse cells, and rerun the plot above. Use the tables above to get the exact name of the parameter, and change the x label axis so that we know what you're plotting.\n",
        "\n",
        "Save your figure by right clicking on the image above. You'll need to submit this on Canvas.</div>\n",
        "\n",
        "### Subselect for spiny or aspiny cells.\n",
        "Final step for today! The histogram above is for <i>all cell types</i>, which is a really hetergenous bunch.\n",
        "\n",
        "What happens if we subselect our human and mouse cells to be just spiny, or just aspiny? Will those types be more different in humans and mice?\n",
        "\n",
        "<div style=\"background: #DFF0D8; border-radius: 3px; padding: 10px;\">\n",
        "    <b>Task</b>: Decide whether you want to look at spiny or aspiny cells. Replace CELLTYPE below with your choice. The variable name <u>should not</u> have quotes. The logical argument within <u>should</u> have quotes.</div>"
      ]
    },
    {
      "cell_type": "code",
      "execution_count": null,
      "metadata": {
        "id": "ZIbxOgKSoNI1"
      },
      "outputs": [],
      "source": [
        "# select cells that are only spiny or aspiny. You can change aspiny to spiny, if you'd like.\n",
        "human = human_ephys_df[human_ephys_df['dendrite_type']=='CELLTYPE']\n",
        "mouse = mouse_ephys_df[mouse_ephys_df['dendrite_type']=='CELLTYPE']\n",
        "print('Number of human CELLTYPE cells: %d' % len(human))\n",
        "print('Number of mouse CELLTYPE cells: %d' % len(mouse))\n",
        "\n",
        "fig = plt.figure()\n",
        "# Below it is set to plot resting membrane potential 'vrest'. That's where you can change what is being plotted.\n",
        "# Make sure you change it for both the mouse and human plot!\n",
        "\n",
        "axes = mouse['vrest'].plot(kind=\"hist\",fc=(0, .5,.5, 0.5))\n",
        "axes = human['vrest'].plot(kind=\"hist\",fc=(0, 0, 1, 0.5))\n",
        "axes.set_ylabel('Resting Membrane Potential (mV)')\n",
        "\n",
        "#cells_concat = pd.concat([aspiny_mouse['vrest'],aspiny_human['vrest']],axis=1)\n",
        "#cells_concat.columns = ['mouse','human']\n",
        "#cells_concat.boxplot()\n",
        "# plt.ylabel('Resting Membrane Potential (mv)')\n",
        "\n",
        "plt.show()"
      ]
    },
    {
      "cell_type": "markdown",
      "metadata": {
        "id": "cvxWUtGNoNI2"
      },
      "source": [
        "It's a little hard to see differences here, so let's plot it as a boxplot. Comment out the lines above that start with \"axes=\" and uncomment the four lines below. Re-run the code to get a boxplot of the data.\n",
        "\n",
        "Change the metric here to whatever metric you created and saved a histogram for above. Save your image when you're done.\n",
        "\n",
        "Upload your two images to \"Computer Lab 1\" on Canvas when you're done. You should also enter your answers to the worksheet on Canvas.\n",
        "\n",
        "Nice work!"
      ]
    },
    {
      "cell_type": "code",
      "execution_count": null,
      "metadata": {
        "id": "rEDtAJeAoNI2"
      },
      "outputs": [],
      "source": [
        "from IPython.display import HTML\n",
        "HTML('<img src=\"https://media.giphy.com/media/xUOwGhOrYP0jP6iAy4/giphy.gif\">')"
      ]
    },
    {
      "cell_type": "markdown",
      "metadata": {
        "id": "S7ptr-b0oNI2"
      },
      "source": [
        "-----------\n",
        "\n",
        "##### Technical notes\n",
        "\n",
        "This notebook demonstrates most of the features of the AllenSDK that help manipulate data in the Cell Types Database.  The main entry point will be through the `CellTypesCache` class. `CellTypesCache` is responsible for downloading Cell Types Database data to a standard directory structure on your hard drive.  If you use this class, you will not have to keep track of where your data lives, other than a root directory.\n",
        "\n",
        "Much more information can be found in the <a href=\"http://help.brain-map.org/download/attachments/8323525/CellTypes_Ephys_Overview.pdf\">Allen Brain Atlas whitepaper</a> as well as in their <a href=\"http://alleninstitute.github.io/AllenSDK/cell_types.html\">GitHub documentation</a>.\n",
        "\n",
        "This file modified from <a href='cell_types.ipynb'>this</a> notebook."
      ]
    },
    {
      "cell_type": "code",
      "execution_count": null,
      "metadata": {
        "id": "19dqdcY6oNI3"
      },
      "outputs": [],
      "source": []
    }
  ],
  "metadata": {
    "kernelspec": {
      "display_name": "Python 3",
      "language": "python",
      "name": "python3"
    },
    "language_info": {
      "codemirror_mode": {
        "name": "ipython",
        "version": 3
      },
      "file_extension": ".py",
      "mimetype": "text/x-python",
      "name": "python",
      "nbconvert_exporter": "python",
      "pygments_lexer": "ipython3",
      "version": "3.6.7"
    },
    "colab": {
      "provenance": []
    }
  },
  "nbformat": 4,
  "nbformat_minor": 0
}