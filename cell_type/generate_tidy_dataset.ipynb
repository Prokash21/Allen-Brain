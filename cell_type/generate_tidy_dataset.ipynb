{
  "cells": [
    {
      "cell_type": "markdown",
      "metadata": {
        "id": "ba2UF00Qp59K"
      },
      "source": [
        "# Generate correlations dataset\n",
        "\n",
        "This notebook will create a nice tidy csv file with the following features for mouse and/or human cells in the Allen Cell Types data:\n",
        "- (estimated) cell surface area\n",
        "- dendrite type (spiny, aspiny, or sparsely spiny)\n",
        "- input resistance\n",
        "- rheobase\n",
        "- tau\n",
        "\n",
        "If you want to skip to working with this data (which, you probably should) go to the **Compare cell features** notebook instead! This is just here so you know where the data came from.\n",
        "\n",
        "## Setup"
      ]
    },
    {
      "cell_type": "code",
      "execution_count": null,
      "metadata": {
        "id": "PDsBdhbfp59T"
      },
      "outputs": [],
      "source": [
        "# Import our plotting package from matplotlib\n",
        "import matplotlib.pyplot as plt\n",
        "\n",
        "# Specify that all plots will happen inline & in high resolution\n",
        "%matplotlib inline\n",
        "%config InlineBackend.figure_format = 'retina'\n",
        "\n",
        "# Import pandas for working with databases\n",
        "import pandas as pd\n",
        "\n",
        "# Import numpy below\n",
        "import numpy as np"
      ]
    },
    {
      "cell_type": "markdown",
      "metadata": {
        "id": "4VECLEOpp59V"
      },
      "source": [
        "The Allen Institute has compiled a set of code and tools called a **Software Development Kit** (SDK). We need to make sure that you have this installed in your environment.\n",
        "\n",
        "See [Technical Notes](#technical) at the end of this notebook for more information about working with the AllenSDK.\n",
        "\n",
        "If you receive an error, there are additional instructions on how to install the SDK locally <a href=\"https://allensdk.readthedocs.io/en/latest/install.html\">here</a>."
      ]
    },
    {
      "cell_type": "code",
      "execution_count": null,
      "metadata": {
        "scrolled": false,
        "id": "hhputWiEp59W",
        "outputId": "9bf98c4b-b9f1-44a6-e071-06fc66259b27"
      },
      "outputs": [
        {
          "name": "stdout",
          "output_type": "stream",
          "text": [
            "allensdk version 2.2.0 already installed\n"
          ]
        }
      ],
      "source": [
        "# This will ensure that the AllenSDK is installed.\n",
        "try:\n",
        "    import allensdk\n",
        "    if allensdk.__version__ == '2.2.0':\n",
        "        print('allensdk version ' + allensdk.__version__ + ' already installed')\n",
        "    else:\n",
        "        print('allensdk installed with an older version. some features may not work.')\n",
        "except ImportError as e:\n",
        "    !pip install allensdk"
      ]
    },
    {
      "cell_type": "markdown",
      "metadata": {
        "id": "Ge7pUHlPp59Z"
      },
      "source": [
        "Now that we have the allensdk installed, we can `import` the CellTypesCache module. This module provides tools to allow us to get information from the Cell Types database.\n",
        "\n",
        "The CellTypesCache that we're importing provides tools to allow us to get information from the cell types database. We're giving it a **manifest** filename as well. CellTypesCache will create this manifest file, which contains metadata about the cache. If you want, you can look in the cell_types folder in your code directory and take a look at the file."
      ]
    },
    {
      "cell_type": "code",
      "execution_count": null,
      "metadata": {
        "id": "n5dOsSv3p59a",
        "outputId": "135734de-9ec8-4900-b1b4-7924ea293213"
      },
      "outputs": [
        {
          "name": "stdout",
          "output_type": "stream",
          "text": [
            "CellTypesCache imported.\n"
          ]
        }
      ],
      "source": [
        "#Import the \"CellTypesCache\" and \"CellTypesApi\" from the AllenSDK core package\n",
        "from allensdk.core.cell_types_cache import CellTypesCache\n",
        "from allensdk.api.queries.cell_types_api import CellTypesApi\n",
        "\n",
        "\n",
        "#Initialize the cache as 'ctc' (cell types cache)\n",
        "ctc = CellTypesCache(manifest_file='cell_types/manifest.json')\n",
        "\n",
        "print('CellTypesCache imported.')"
      ]
    },
    {
      "cell_type": "code",
      "execution_count": null,
      "metadata": {
        "id": "wdePFFLlp59b",
        "outputId": "ba434a48-c12b-40bf-e9cb-0d231c0b64c4"
      },
      "outputs": [
        {
          "data": {
            "text/html": [
              "<div>\n",
              "<style scoped>\n",
              "    .dataframe tbody tr th:only-of-type {\n",
              "        vertical-align: middle;\n",
              "    }\n",
              "\n",
              "    .dataframe tbody tr th {\n",
              "        vertical-align: top;\n",
              "    }\n",
              "\n",
              "    .dataframe thead th {\n",
              "        text-align: right;\n",
              "    }\n",
              "</style>\n",
              "<table border=\"1\" class=\"dataframe\">\n",
              "  <thead>\n",
              "    <tr style=\"text-align: right;\">\n",
              "      <th></th>\n",
              "      <th>reporter_status</th>\n",
              "      <th>cell_soma_location</th>\n",
              "      <th>species</th>\n",
              "      <th>id_x</th>\n",
              "      <th>name</th>\n",
              "      <th>structure_layer_name</th>\n",
              "      <th>structure_area_id</th>\n",
              "      <th>structure_area_abbrev</th>\n",
              "      <th>transgenic_line</th>\n",
              "      <th>dendrite_type</th>\n",
              "      <th>...</th>\n",
              "      <th>trough_t_ramp</th>\n",
              "      <th>trough_t_short_square</th>\n",
              "      <th>trough_v_long_square</th>\n",
              "      <th>trough_v_ramp</th>\n",
              "      <th>trough_v_short_square</th>\n",
              "      <th>upstroke_downstroke_ratio_long_square</th>\n",
              "      <th>upstroke_downstroke_ratio_ramp</th>\n",
              "      <th>upstroke_downstroke_ratio_short_square</th>\n",
              "      <th>vm_for_sag</th>\n",
              "      <th>vrest</th>\n",
              "    </tr>\n",
              "  </thead>\n",
              "  <tbody>\n",
              "    <tr>\n",
              "      <th>0</th>\n",
              "      <td>None</td>\n",
              "      <td>[273.0, 354.0, 216.0]</td>\n",
              "      <td>Homo Sapiens</td>\n",
              "      <td>525011903</td>\n",
              "      <td>H16.03.003.01.14.02</td>\n",
              "      <td>3</td>\n",
              "      <td>12113</td>\n",
              "      <td>FroL</td>\n",
              "      <td></td>\n",
              "      <td>spiny</td>\n",
              "      <td>...</td>\n",
              "      <td>4.134987</td>\n",
              "      <td>1.375253</td>\n",
              "      <td>-53.968754</td>\n",
              "      <td>-59.510420</td>\n",
              "      <td>-71.197919</td>\n",
              "      <td>2.895461</td>\n",
              "      <td>2.559876</td>\n",
              "      <td>3.099787</td>\n",
              "      <td>-88.843758</td>\n",
              "      <td>-70.561035</td>\n",
              "    </tr>\n",
              "    <tr>\n",
              "      <th>1</th>\n",
              "      <td>None</td>\n",
              "      <td>[69.0, 254.0, 96.0]</td>\n",
              "      <td>Homo Sapiens</td>\n",
              "      <td>528642047</td>\n",
              "      <td>H16.06.009.01.02.06.05</td>\n",
              "      <td>5</td>\n",
              "      <td>12141</td>\n",
              "      <td>MTG</td>\n",
              "      <td></td>\n",
              "      <td>aspiny</td>\n",
              "      <td>...</td>\n",
              "      <td>NaN</td>\n",
              "      <td>1.051160</td>\n",
              "      <td>-67.468758</td>\n",
              "      <td>NaN</td>\n",
              "      <td>-70.875002</td>\n",
              "      <td>1.891881</td>\n",
              "      <td>NaN</td>\n",
              "      <td>1.989616</td>\n",
              "      <td>-101.000000</td>\n",
              "      <td>-69.209610</td>\n",
              "    </tr>\n",
              "    <tr>\n",
              "      <th>2</th>\n",
              "      <td>None</td>\n",
              "      <td>[322.0, 255.0, 92.0]</td>\n",
              "      <td>Homo Sapiens</td>\n",
              "      <td>537256313</td>\n",
              "      <td>H16.03.006.01.05.02</td>\n",
              "      <td>4</td>\n",
              "      <td>12141</td>\n",
              "      <td>MTG</td>\n",
              "      <td></td>\n",
              "      <td>spiny</td>\n",
              "      <td>...</td>\n",
              "      <td>5.694547</td>\n",
              "      <td>1.389900</td>\n",
              "      <td>-52.125004</td>\n",
              "      <td>-51.520836</td>\n",
              "      <td>-72.900002</td>\n",
              "      <td>3.121182</td>\n",
              "      <td>3.464528</td>\n",
              "      <td>3.054681</td>\n",
              "      <td>-87.531250</td>\n",
              "      <td>-72.628105</td>\n",
              "    </tr>\n",
              "    <tr>\n",
              "      <th>3</th>\n",
              "      <td>None</td>\n",
              "      <td>[79.0, 273.0, 91.0]</td>\n",
              "      <td>Homo Sapiens</td>\n",
              "      <td>519832676</td>\n",
              "      <td>H16.03.001.01.09.01</td>\n",
              "      <td>3</td>\n",
              "      <td>12141</td>\n",
              "      <td>MTG</td>\n",
              "      <td></td>\n",
              "      <td>spiny</td>\n",
              "      <td>...</td>\n",
              "      <td>9.962780</td>\n",
              "      <td>1.211020</td>\n",
              "      <td>-53.875004</td>\n",
              "      <td>-52.416668</td>\n",
              "      <td>-73.693753</td>\n",
              "      <td>4.574865</td>\n",
              "      <td>3.817988</td>\n",
              "      <td>4.980603</td>\n",
              "      <td>-84.218758</td>\n",
              "      <td>-72.547661</td>\n",
              "    </tr>\n",
              "    <tr>\n",
              "      <th>4</th>\n",
              "      <td>None</td>\n",
              "      <td>[66.0, 220.0, 105.0]</td>\n",
              "      <td>Homo Sapiens</td>\n",
              "      <td>596020931</td>\n",
              "      <td>H17.06.009.11.04.02</td>\n",
              "      <td>4</td>\n",
              "      <td>12141</td>\n",
              "      <td>MTG</td>\n",
              "      <td></td>\n",
              "      <td>aspiny</td>\n",
              "      <td>...</td>\n",
              "      <td>14.667340</td>\n",
              "      <td>1.336668</td>\n",
              "      <td>-63.593754</td>\n",
              "      <td>-63.239583</td>\n",
              "      <td>-75.518753</td>\n",
              "      <td>1.452890</td>\n",
              "      <td>1.441754</td>\n",
              "      <td>1.556087</td>\n",
              "      <td>-82.531250</td>\n",
              "      <td>-74.260269</td>\n",
              "    </tr>\n",
              "  </tbody>\n",
              "</table>\n",
              "<p>5 rows × 72 columns</p>\n",
              "</div>"
            ],
            "text/plain": [
              "  reporter_status     cell_soma_location       species       id_x  \\\n",
              "0            None  [273.0, 354.0, 216.0]  Homo Sapiens  525011903   \n",
              "1            None    [69.0, 254.0, 96.0]  Homo Sapiens  528642047   \n",
              "2            None   [322.0, 255.0, 92.0]  Homo Sapiens  537256313   \n",
              "3            None    [79.0, 273.0, 91.0]  Homo Sapiens  519832676   \n",
              "4            None   [66.0, 220.0, 105.0]  Homo Sapiens  596020931   \n",
              "\n",
              "                     name structure_layer_name  structure_area_id  \\\n",
              "0     H16.03.003.01.14.02                    3              12113   \n",
              "1  H16.06.009.01.02.06.05                    5              12141   \n",
              "2     H16.03.006.01.05.02                    4              12141   \n",
              "3     H16.03.001.01.09.01                    3              12141   \n",
              "4     H17.06.009.11.04.02                    4              12141   \n",
              "\n",
              "  structure_area_abbrev transgenic_line dendrite_type  ... trough_t_ramp  \\\n",
              "0                  FroL                         spiny  ...      4.134987   \n",
              "1                   MTG                        aspiny  ...           NaN   \n",
              "2                   MTG                         spiny  ...      5.694547   \n",
              "3                   MTG                         spiny  ...      9.962780   \n",
              "4                   MTG                        aspiny  ...     14.667340   \n",
              "\n",
              "  trough_t_short_square trough_v_long_square  trough_v_ramp  \\\n",
              "0              1.375253           -53.968754     -59.510420   \n",
              "1              1.051160           -67.468758            NaN   \n",
              "2              1.389900           -52.125004     -51.520836   \n",
              "3              1.211020           -53.875004     -52.416668   \n",
              "4              1.336668           -63.593754     -63.239583   \n",
              "\n",
              "  trough_v_short_square  upstroke_downstroke_ratio_long_square  \\\n",
              "0            -71.197919                               2.895461   \n",
              "1            -70.875002                               1.891881   \n",
              "2            -72.900002                               3.121182   \n",
              "3            -73.693753                               4.574865   \n",
              "4            -75.518753                               1.452890   \n",
              "\n",
              "   upstroke_downstroke_ratio_ramp  upstroke_downstroke_ratio_short_square  \\\n",
              "0                        2.559876                                3.099787   \n",
              "1                             NaN                                1.989616   \n",
              "2                        3.464528                                3.054681   \n",
              "3                        3.817988                                4.980603   \n",
              "4                        1.441754                                1.556087   \n",
              "\n",
              "   vm_for_sag      vrest  \n",
              "0  -88.843758 -70.561035  \n",
              "1 -101.000000 -69.209610  \n",
              "2  -87.531250 -72.628105  \n",
              "3  -84.218758 -72.547661  \n",
              "4  -82.531250 -74.260269  \n",
              "\n",
              "[5 rows x 72 columns]"
            ]
          },
          "execution_count": 4,
          "metadata": {},
          "output_type": "execute_result"
        }
      ],
      "source": [
        "# Let's now get all of the electrophysiology data for the mouse and human cells, separately.\n",
        "\n",
        "# Get the ephys features make a dataframe out of it\n",
        "ephys_features = ctc.get_ephys_features()\n",
        "ephys_features_df = pd.DataFrame.from_records(ephys_features)\n",
        "\n",
        "# grab mouse data and merge with dataframe\n",
        "mouse_df = pd.DataFrame(ctc.get_cells(species=[CellTypesApi.MOUSE]))\n",
        "mouse_ephys_df = pd.merge(mouse_df,ephys_features_df,left_on='id',right_on='specimen_id',how='left')\n",
        "\n",
        "# grab human data and merge with dataframe\n",
        "human_df = pd.DataFrame(ctc.get_cells(species=[CellTypesApi.HUMAN]))\n",
        "human_ephys_df = pd.merge(human_df,ephys_features_df,left_on='id',right_on='specimen_id',how='left')\n",
        "\n",
        "# Show the first five rows of the human dataframe\n",
        "human_ephys_df.head()"
      ]
    },
    {
      "cell_type": "markdown",
      "metadata": {
        "id": "XbCFZipgp59d"
      },
      "source": [
        "## Get the good stuff out of the dataset\n",
        "\n",
        "We'll have to do a bit of work to get interesting features like estimated cell surface area and the rheobase out of the data. The cell below will download *a lot* of data. You should only run it if you'd really like to save a bunch of data on your computer. This repository already contains .csv files with the output of this!"
      ]
    },
    {
      "cell_type": "code",
      "execution_count": null,
      "metadata": {
        "scrolled": true,
        "id": "Jnsy1QdDp59e",
        "outputId": "d1e1c4cc-3a6b-45a0-b699-a3d40ddd06a0"
      },
      "outputs": [
        {
          "name": "stderr",
          "output_type": "stream",
          "text": [
            "/Users/ashley/anaconda3/lib/python3.7/site-packages/h5py/_hl/dataset.py:313: H5pyDeprecationWarning: dataset.value has been deprecated. Use dataset[()] instead.\n",
            "  \"Use dataset[()] instead.\", H5pyDeprecationWarning)\n",
            "2020-09-30 16:40:41,401 allensdk.api.api.retrieve_file_over_http INFO     Downloading URL: http://api.brain-map.org/api/v2/well_known_file_download/659446331\n"
          ]
        }
      ],
      "source": [
        "# Choose a dataframe we created above, mouse or human\n",
        "df = mouse_ephys_df\n",
        "\n",
        "cell_surface_area = []\n",
        "dendrite_type = []\n",
        "input_resistance = []\n",
        "tau = []\n",
        "rheobase = []\n",
        "\n",
        "for i in range(len(df)):\n",
        "    this_cell = df['specimen_id'][i]\n",
        "    if df['reconstruction_type'][i] == 'full':\n",
        "        try:\n",
        "            morphology = ctc.get_reconstruction(this_cell)\n",
        "            this_cell_radius = morphology.soma['radius']\n",
        "            cell_surface_area.append(4*np.pi*this_cell_radius*this_cell_radius)\n",
        "            input_resistance.append(df['input_resistance_mohm'][i])\n",
        "            tau.append(df['tau'][i])\n",
        "            dendrite_type.append(df['dendrite_type'][i])\n",
        "\n",
        "            # All of this to get the rheobase.\n",
        "            rheobase_sweep_number = df['rheobase_sweep_number'][i]\n",
        "            this_data = ctc.get_ephys_data(this_cell)\n",
        "            rheo_sweep_meta = this_data.get_sweep_metadata(rheobase_sweep_number)\n",
        "            rheobase.append(rheo_sweep_meta['aibs_stimulus_amplitude_pa'])\n",
        "\n",
        "        except:\n",
        "            pass"
      ]
    },
    {
      "cell_type": "code",
      "execution_count": null,
      "metadata": {
        "id": "tyStGuM1p59g",
        "outputId": "30b56e6d-c46c-4951-994b-bb08b95e566c"
      },
      "outputs": [
        {
          "data": {
            "text/html": [
              "<div>\n",
              "<style scoped>\n",
              "    .dataframe tbody tr th:only-of-type {\n",
              "        vertical-align: middle;\n",
              "    }\n",
              "\n",
              "    .dataframe tbody tr th {\n",
              "        vertical-align: top;\n",
              "    }\n",
              "\n",
              "    .dataframe thead th {\n",
              "        text-align: right;\n",
              "    }\n",
              "</style>\n",
              "<table border=\"1\" class=\"dataframe\">\n",
              "  <thead>\n",
              "    <tr style=\"text-align: right;\">\n",
              "      <th></th>\n",
              "      <th>cell_surface_area</th>\n",
              "      <th>dendrite_type</th>\n",
              "      <th>rheobase</th>\n",
              "      <th>input_resistance</th>\n",
              "      <th>tau</th>\n",
              "    </tr>\n",
              "  </thead>\n",
              "  <tbody>\n",
              "    <tr>\n",
              "      <th>0</th>\n",
              "      <td>542.046417</td>\n",
              "      <td>aspiny</td>\n",
              "      <td>629.999997</td>\n",
              "      <td>107.630696</td>\n",
              "      <td>5.515311</td>\n",
              "    </tr>\n",
              "    <tr>\n",
              "      <th>1</th>\n",
              "      <td>494.036230</td>\n",
              "      <td>aspiny</td>\n",
              "      <td>29.999999</td>\n",
              "      <td>209.605296</td>\n",
              "      <td>62.705039</td>\n",
              "    </tr>\n",
              "    <tr>\n",
              "      <th>2</th>\n",
              "      <td>302.248338</td>\n",
              "      <td>aspiny</td>\n",
              "      <td>50.000001</td>\n",
              "      <td>594.843904</td>\n",
              "      <td>10.239005</td>\n",
              "    </tr>\n",
              "    <tr>\n",
              "      <th>3</th>\n",
              "      <td>605.346305</td>\n",
              "      <td>aspiny</td>\n",
              "      <td>50.000001</td>\n",
              "      <td>218.831968</td>\n",
              "      <td>45.660687</td>\n",
              "    </tr>\n",
              "    <tr>\n",
              "      <th>4</th>\n",
              "      <td>298.096557</td>\n",
              "      <td>spiny</td>\n",
              "      <td>30.000002</td>\n",
              "      <td>338.629120</td>\n",
              "      <td>35.177373</td>\n",
              "    </tr>\n",
              "  </tbody>\n",
              "</table>\n",
              "</div>"
            ],
            "text/plain": [
              "   cell_surface_area dendrite_type    rheobase  input_resistance        tau\n",
              "0         542.046417        aspiny  629.999997        107.630696   5.515311\n",
              "1         494.036230        aspiny   29.999999        209.605296  62.705039\n",
              "2         302.248338        aspiny   50.000001        594.843904  10.239005\n",
              "3         605.346305        aspiny   50.000001        218.831968  45.660687\n",
              "4         298.096557         spiny   30.000002        338.629120  35.177373"
            ]
          },
          "execution_count": 17,
          "metadata": {},
          "output_type": "execute_result"
        }
      ],
      "source": [
        "if len(rheobase) == len(tau) == len(cell_surface_area) == len(input_resistance) == len(dendrite_type):\n",
        "    # Get organized\n",
        "    fields = ['cell_surface_area','dendrite_type','rheobase','input_resistance','tau']\n",
        "    dataset = pd.DataFrame(list(zip(cell_surface_area,dendrite_type,rheobase,input_resistance,tau)),columns=fields)\n",
        "else:\n",
        "    print(len(rheobase))\n",
        "    print(len(input_resistance))\n",
        "    print(len(cell_surface_area))\n",
        "    print(len(tau))\n",
        "\n",
        "dataset.head()"
      ]
    },
    {
      "cell_type": "markdown",
      "metadata": {
        "id": "2zXWas7qp59i"
      },
      "source": [
        "## Save the dataset to a csv"
      ]
    },
    {
      "cell_type": "code",
      "execution_count": null,
      "metadata": {
        "id": "97U4HtKBp59i"
      },
      "outputs": [],
      "source": [
        "dataset.to_csv('mouse_cell_metrics.csv',index=False)"
      ]
    }
  ],
  "metadata": {
    "kernelspec": {
      "display_name": "Python 3",
      "language": "python",
      "name": "python3"
    },
    "language_info": {
      "codemirror_mode": {
        "name": "ipython",
        "version": 3
      },
      "file_extension": ".py",
      "mimetype": "text/x-python",
      "name": "python",
      "nbconvert_exporter": "python",
      "pygments_lexer": "ipython3",
      "version": "3.7.3"
    },
    "colab": {
      "provenance": []
    }
  },
  "nbformat": 4,
  "nbformat_minor": 0
}